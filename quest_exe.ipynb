{
  "nbformat": 4,
  "nbformat_minor": 0,
  "metadata": {
    "colab": {
      "name": "quest_exe.ipynb",
      "provenance": [],
      "authorship_tag": "ABX9TyNYusG5RJaSjrF+RWPhRhu2",
      "include_colab_link": true
    },
    "kernelspec": {
      "name": "python3",
      "display_name": "Python 3"
    },
    "language_info": {
      "name": "python"
    }
  },
  "cells": [
    {
      "cell_type": "markdown",
      "metadata": {
        "id": "view-in-github",
        "colab_type": "text"
      },
      "source": [
        "<a href=\"https://colab.research.google.com/github/qiuhuasheng1107/project_pytorch_exercise/blob/main/quest_exe.ipynb\" target=\"_parent\"><img src=\"https://colab.research.google.com/assets/colab-badge.svg\" alt=\"Open In Colab\"/></a>"
      ]
    },
    {
      "cell_type": "code",
      "execution_count": null,
      "metadata": {
        "id": "OS59H9eZXZGp"
      },
      "outputs": [],
      "source": [
        "\n",
        "import torch\n",
        "import torch.nn as nn\n",
        "import torch.nn.functional as F\n",
        "from torch.optim import SGD\n",
        "\n",
        "import matplotlib.pyplot as plt\n",
        "import seaborn as sns"
      ]
    },
    {
      "cell_type": "code",
      "source": [
        "class BasicNN(nn.Module):\n",
        "    def __init__(self):\n",
        "        super().__init__()\n",
        "        \n",
        "        self.w00 = nn.Parameter(torch.tensor(1.7), requires_grad=False)\n",
        "        self.b00 = nn.Parameter(torch.tensor(-0.85), requires_grad=False)\n",
        "        self.w01 = nn.Parameter(torch.tensor(-40.8), requires_grad=False)\n",
        "        \n",
        "        self.w10 = nn.Parameter(torch.tensor(12.6), requires_grad=False)\n",
        "        self.b10 = nn.Parameter(torch.tensor(0.0), requires_grad=False)\n",
        "        self.w11 = nn.Parameter(torch.tensor(2.7), requires_grad=False)\n",
        "        \n",
        "        self.final_bias = nn.Parameter(torch.tensor(-16), requires_grad=False)\n",
        "    \n",
        "    def forward(self, input):\n",
        "        input_to_top_relu = input*self.w00+self.b00\n",
        "        top_relu_output = F.relu(input_to_top_relu)\n",
        "        scaled_top_relu_output = top_relu_output*self.w01\n",
        "        \n",
        "        input_to_bottom_relu = input*self.w10+self.b10\n",
        "        bottom_relu_output = F.relu(input_to_bottom_relu)\n",
        "        scaled_bottom_relu_output = bottom_relu_output*self.w11\n",
        "        \n",
        "        input_to_final_relu = scaled_top_relu_output + scaled_bottom_relu_output + self.final_bias\n",
        "        output = F.relu(input_to_final_relu)\n",
        "        \n",
        "        return output"
      ],
      "metadata": {
        "id": "SP1PNlz3XcFJ"
      },
      "execution_count": null,
      "outputs": []
    },
    {
      "cell_type": "code",
      "source": [
        "model = BasicNN()\n",
        "\n",
        "## print out the name and value for each parameter\n",
        "for name, param in model.named_parameters():\n",
        "    print(name, param.data)"
      ],
      "metadata": {
        "colab": {
          "base_uri": "https://localhost:8080/"
        },
        "id": "-fUFuFDzhMTI",
        "outputId": "c5d6e2ff-7238-44c4-ba3e-903083e7e6d3"
      },
      "execution_count": null,
      "outputs": [
        {
          "output_type": "stream",
          "name": "stdout",
          "text": [
            "w00 tensor(1.7000)\n",
            "b00 tensor(-0.8500)\n",
            "w01 tensor(-40.8000)\n",
            "w10 tensor(12.6000)\n",
            "b10 tensor(0.)\n",
            "w11 tensor(2.7000)\n",
            "final_bias tensor(-16)\n"
          ]
        }
      ]
    },
    {
      "cell_type": "code",
      "source": [
        "input_doses = torch.linspace(start=0, end=1, steps=11)\n",
        "input_doses"
      ],
      "metadata": {
        "colab": {
          "base_uri": "https://localhost:8080/"
        },
        "id": "kxoIqWmWXquS",
        "outputId": "f2dd737b-0964-4afc-87de-f84f6dd29401"
      },
      "execution_count": null,
      "outputs": [
        {
          "output_type": "execute_result",
          "data": {
            "text/plain": [
              "tensor([0.0000, 0.1000, 0.2000, 0.3000, 0.4000, 0.5000, 0.6000, 0.7000, 0.8000,\n",
              "        0.9000, 1.0000])"
            ]
          },
          "metadata": {},
          "execution_count": 34
        }
      ]
    },
    {
      "cell_type": "code",
      "source": [
        "model = BasicNN()\n",
        "output_values = model(input_doses)"
      ],
      "metadata": {
        "id": "2M2_Z4OFXrIj"
      },
      "execution_count": null,
      "outputs": []
    },
    {
      "cell_type": "code",
      "source": [
        "sns.set(style='whitegrid')\n",
        "sns.lineplot(x=input_doses,y=output_values,color='green',linewidth=2.5)"
      ],
      "metadata": {
        "colab": {
          "base_uri": "https://localhost:8080/",
          "height": 285
        },
        "id": "2N5T4_8Ja3pi",
        "outputId": "6ea45e16-4fda-43ec-f4c7-d3a8cbc78ae0"
      },
      "execution_count": null,
      "outputs": [
        {
          "output_type": "execute_result",
          "data": {
            "text/plain": [
              "<matplotlib.axes._subplots.AxesSubplot at 0x7f23c2d6a2d0>"
            ]
          },
          "metadata": {},
          "execution_count": 36
        },
        {
          "output_type": "display_data",
          "data": {
            "text/plain": [
              "<Figure size 432x288 with 1 Axes>"
            ],
            "image/png": "[encoded data removed]"
          },
          "metadata": {}
        }
      ]
    },
    {
      "cell_type": "code",
      "source": [
        "class BasicNN_train(nn.Module):\n",
        "    def __init__(self):\n",
        "        super().__init__()\n",
        "        \n",
        "        self.w00 = nn.Parameter(torch.tensor(1.7), requires_grad=False)\n",
        "        self.b00 = nn.Parameter(torch.tensor(-0.85), requires_grad=False)\n",
        "        self.w01 = nn.Parameter(torch.tensor(-40.8), requires_grad=False)\n",
        "        \n",
        "        self.w10 = nn.Parameter(torch.tensor(12.6), requires_grad=False)\n",
        "        self.b10 = nn.Parameter(torch.tensor(0.0), requires_grad=False)\n",
        "        self.w11 = nn.Parameter(torch.tensor(2.7), requires_grad=False)\n",
        "        \n",
        "        self.final_bias = nn.Parameter(torch.tensor(0.0), requires_grad=True)\n",
        "    \n",
        "    def forward(self, input):\n",
        "        input_to_top_relu = input*self.w00+self.b00\n",
        "        top_relu_output = F.relu(input_to_top_relu)\n",
        "        scaled_top_relu_output = top_relu_output*self.w01\n",
        "        \n",
        "        input_to_bottom_relu = input*self.w10+self.b10\n",
        "        bottom_relu_output = F.relu(input_to_bottom_relu)\n",
        "        scaled_bottom_relu_output = bottom_relu_output*self.w11\n",
        "        \n",
        "        input_to_final_relu = scaled_top_relu_output + scaled_bottom_relu_output + self.final_bias\n",
        "        output = F.relu(input_to_final_relu)\n",
        "        \n",
        "        return output"
      ],
      "metadata": {
        "id": "Vj9AnXYra4PJ"
      },
      "execution_count": null,
      "outputs": []
    },
    {
      "cell_type": "code",
      "source": [
        "model = BasicNN_train()\n",
        "output_values = model(input_doses)"
      ],
      "metadata": {
        "id": "dcANZrYsc-4j"
      },
      "execution_count": null,
      "outputs": []
    },
    {
      "cell_type": "code",
      "source": [
        "sns.set(style='whitegrid')\n",
        "sns.lineplot(x=input_doses,y=output_values.detach(),color='green',linewidth=2.5)"
      ],
      "metadata": {
        "colab": {
          "base_uri": "https://localhost:8080/",
          "height": 285
        },
        "id": "Ux8S7r3ldDA3",
        "outputId": "18a95c8d-d03a-4d71-8205-161d2bc0eaeb"
      },
      "execution_count": null,
      "outputs": [
        {
          "output_type": "execute_result",
          "data": {
            "text/plain": [
              "<matplotlib.axes._subplots.AxesSubplot at 0x7f23c1ed6a90>"
            ]
          },
          "metadata": {},
          "execution_count": 39
        },
        {
          "output_type": "display_data",
          "data": {
            "text/plain": [
              "<Figure size 432x288 with 1 Axes>"
            ],
            "image/png": "[encoded data removed]"
          },
          "metadata": {}
        }
      ]
    },
    {
      "cell_type": "code",
      "source": [
        "inputs = torch.tensor([0., 0.5, 1.])\n",
        "labels = torch.tensor([0., 1., 0.])"
      ],
      "metadata": {
        "id": "JHdD5ixfdwPE"
      },
      "execution_count": null,
      "outputs": []
    },
    {
      "cell_type": "code",
      "source": [
        "optimizer = SGD(model.parameters(), lr=0.1)\n",
        "print(str(model.final_bias.data)+'\\n')"
      ],
      "metadata": {
        "colab": {
          "base_uri": "https://localhost:8080/"
        },
        "id": "xjGLiUrGd64t",
        "outputId": "2fa3fc15-cebd-4571-ec4e-fb725423b6ab"
      },
      "execution_count": null,
      "outputs": [
        {
          "output_type": "stream",
          "name": "stdout",
          "text": [
            "tensor(0.)\n",
            "\n"
          ]
        }
      ]
    },
    {
      "cell_type": "code",
      "source": [
        "for epoch in range(100):\n",
        "  total_loss = 0\n",
        "\n",
        "  for iteration in range(len(inputs)):\n",
        "    input_i = inputs[iteration]\n",
        "    label_i = labels[iteration]\n",
        "    output_i = model(input_i)\n",
        "\n",
        "    loss = (output_i-label_i)**2\n",
        "    loss.backward()\n",
        "    total_loss += float(loss)\n",
        "\n",
        "  if (total_loss<0.0001):\n",
        "    print('steps:'+str(epoch))\n",
        "    break\n",
        "  \n",
        "  optimizer.step()\n",
        "  optimizer.zero_grad()\n",
        "\n",
        "  print(\"step:\"+str(epoch)+'final bias:'+str(model.final_bias.data)+'\\n')"
      ],
      "metadata": {
        "colab": {
          "base_uri": "https://localhost:8080/"
        },
        "id": "-p5IZEfveflB",
        "outputId": "c1c63e2a-a2da-4e1c-a96d-33d2ab2f6318"
      },
      "execution_count": null,
      "outputs": [
        {
          "output_type": "stream",
          "name": "stdout",
          "text": [
            "step:0final bias:tensor(-3.2020)\n",
            "\n",
            "step:1final bias:tensor(-5.7636)\n",
            "\n",
            "step:2final bias:tensor(-7.8129)\n",
            "\n",
            "step:3final bias:tensor(-9.4523)\n",
            "\n",
            "step:4final bias:tensor(-10.7638)\n",
            "\n",
            "step:5final bias:tensor(-11.8131)\n",
            "\n",
            "step:6final bias:tensor(-12.6525)\n",
            "\n",
            "step:7final bias:tensor(-13.3240)\n",
            "\n",
            "step:8final bias:tensor(-13.8612)\n",
            "\n",
            "step:9final bias:tensor(-14.2909)\n",
            "\n",
            "step:10final bias:tensor(-14.6348)\n",
            "\n",
            "step:11final bias:tensor(-14.9098)\n",
            "\n",
            "step:12final bias:tensor(-15.1298)\n",
            "\n",
            "step:13final bias:tensor(-15.3059)\n",
            "\n",
            "step:14final bias:tensor(-15.4467)\n",
            "\n",
            "step:15final bias:tensor(-15.5594)\n",
            "\n",
            "step:16final bias:tensor(-15.6495)\n",
            "\n",
            "step:17final bias:tensor(-15.7216)\n",
            "\n",
            "step:18final bias:tensor(-15.7793)\n",
            "\n",
            "step:19final bias:tensor(-15.8254)\n",
            "\n",
            "step:20final bias:tensor(-15.8623)\n",
            "\n",
            "step:21final bias:tensor(-15.8919)\n",
            "\n",
            "step:22final bias:tensor(-15.9155)\n",
            "\n",
            "step:23final bias:tensor(-15.9344)\n",
            "\n",
            "step:24final bias:tensor(-15.9495)\n",
            "\n",
            "step:25final bias:tensor(-15.9616)\n",
            "\n",
            "step:26final bias:tensor(-15.9713)\n",
            "\n",
            "step:27final bias:tensor(-15.9790)\n",
            "\n",
            "step:28final bias:tensor(-15.9852)\n",
            "\n",
            "step:29final bias:tensor(-15.9902)\n",
            "\n",
            "step:30final bias:tensor(-15.9941)\n",
            "\n",
            "step:31final bias:tensor(-15.9973)\n",
            "\n",
            "step:32final bias:tensor(-15.9999)\n",
            "\n",
            "step:33final bias:tensor(-16.0019)\n",
            "\n",
            "steps:34\n"
          ]
        }
      ]
    },
    {
      "cell_type": "code",
      "source": [
        "output_values = model(input_doses)\n",
        "sns.set(style='whitegrid')\n",
        "sns.lineplot(x=input_doses,y=output_values.detach(),color='green',linewidth=2.5)"
      ],
      "metadata": {
        "colab": {
          "base_uri": "https://localhost:8080/",
          "height": 285
        },
        "id": "cXbgU1TEh0KE",
        "outputId": "d545e65e-80f9-4fb6-9df1-50b7db107d87"
      },
      "execution_count": null,
      "outputs": [
        {
          "output_type": "execute_result",
          "data": {
            "text/plain": [
              "<matplotlib.axes._subplots.AxesSubplot at 0x7f23c1e3d610>"
            ]
          },
          "metadata": {},
          "execution_count": 43
        },
        {
          "output_type": "display_data",
          "data": {
            "text/plain": [
              "<Figure size 432x288 with 1 Axes>"
            ],
            "image/png": "[encoded data removed]"
          },
          "metadata": {}
        }
      ]
    },
    {
      "cell_type": "code",
      "source": [
        ""
      ],
      "metadata": {
        "id": "FNfQ7rOPh542"
      },
      "execution_count": null,
      "outputs": []
    }
  ]
}