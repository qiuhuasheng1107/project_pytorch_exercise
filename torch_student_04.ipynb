{
  "nbformat": 4,
  "nbformat_minor": 0,
  "metadata": {
    "colab": {
      "name": "torch_student_04.ipynb",
      "provenance": [],
      "authorship_tag": "ABX9TyOVIxIxIeDF66hbt5Vp52gs",
      "include_colab_link": true
    },
    "kernelspec": {
      "name": "python3",
      "display_name": "Python 3"
    },
    "language_info": {
      "name": "python"
    }
  },
  "cells": [
    {
      "cell_type": "markdown",
      "metadata": {
        "id": "view-in-github",
        "colab_type": "text"
      },
      "source": [
        "<a href=\"https://colab.research.google.com/github/qiuhuasheng1107/project_pytorch_exercise/blob/main/torch_student_04.ipynb\" target=\"_parent\"><img src=\"https://colab.research.google.com/assets/colab-badge.svg\" alt=\"Open In Colab\"/></a>"
      ]
    },
    {
      "cell_type": "code",
      "execution_count": null,
      "metadata": {
        "id": "P78s2Y2ZdkS3"
      },
      "outputs": [],
      "source": [
        "import pandas as pd\n",
        "from sklearn.model_selection import train_test_split\n",
        "import torch\n",
        "import torch.nn as nn\n",
        "from torch.utils.data import TensorDataset\n",
        "from torch.utils.data import DataLoader\n",
        "import torch.nn.functional as F\n",
        "\n",
        "from torch.utils.data import random_split\n",
        "import torchvision.transforms as transforms\n",
        "\n",
        "import matplotlib\n",
        "import matplotlib.pyplot as plt\n",
        "from torchvision.utils import make_grid\n",
        "import numpy as np"
      ]
    },
    {
      "cell_type": "code",
      "source": [
        "df = pd.read_csv('student.csv')"
      ],
      "metadata": {
        "id": "kbdVzEHAdrmJ"
      },
      "execution_count": null,
      "outputs": []
    },
    {
      "cell_type": "code",
      "source": [
        "df_set = df[['gender', 'math_score', 'reading_score', 'writing_score']]"
      ],
      "metadata": {
        "id": "JnHgaytjdt4V"
      },
      "execution_count": null,
      "outputs": []
    },
    {
      "cell_type": "code",
      "source": [
        "new_df = pd.get_dummies(data=df_set, columns=['gender'], drop_first=True)"
      ],
      "metadata": {
        "id": "C6XDKEcYduaX"
      },
      "execution_count": null,
      "outputs": []
    },
    {
      "cell_type": "code",
      "source": [
        "feature_set = new_df[['gender_male','math_score', 'reading_score']]\n",
        "feature_set.head()"
      ],
      "metadata": {
        "colab": {
          "base_uri": "https://localhost:8080/",
          "height": 206
        },
        "id": "pbqNaSQOdwHD",
        "outputId": "dec8d36f-1cf6-4310-d093-1c96c3335d3a"
      },
      "execution_count": null,
      "outputs": [
        {
          "output_type": "execute_result",
          "data": {
            "text/plain": [
              "   gender_male  math_score  reading_score\n",
              "0            0          72             72\n",
              "1            0          69             90\n",
              "2            0          90             95\n",
              "3            1          47             57\n",
              "4            1          76             78"
            ],
            "text/html": [
              "\n",
              "  <div id=\"df-186a9550-90ac-42ab-9c76-8e50ee7c3834\">\n",
              "    <div class=\"colab-df-container\">\n",
              "      <div>\n",
              "<style scoped>\n",
              "    .dataframe tbody tr th:only-of-type {\n",
              "        vertical-align: middle;\n",
              "    }\n",
              "\n",
              "    .dataframe tbody tr th {\n",
              "        vertical-align: top;\n",
              "    }\n",
              "\n",
              "    .dataframe thead th {\n",
              "        text-align: right;\n",
              "    }\n",
              "</style>\n",
              "<table border=\"1\" class=\"dataframe\">\n",
              "  <thead>\n",
              "    <tr style=\"text-align: right;\">\n",
              "      <th></th>\n",
              "      <th>gender_male</th>\n",
              "      <th>math_score</th>\n",
              "      <th>reading_score</th>\n",
              "    </tr>\n",
              "  </thead>\n",
              "  <tbody>\n",
              "    <tr>\n",
              "      <th>0</th>\n",
              "      <td>0</td>\n",
              "      <td>72</td>\n",
              "      <td>72</td>\n",
              "    </tr>\n",
              "    <tr>\n",
              "      <th>1</th>\n",
              "      <td>0</td>\n",
              "      <td>69</td>\n",
              "      <td>90</td>\n",
              "    </tr>\n",
              "    <tr>\n",
              "      <th>2</th>\n",
              "      <td>0</td>\n",
              "      <td>90</td>\n",
              "      <td>95</td>\n",
              "    </tr>\n",
              "    <tr>\n",
              "      <th>3</th>\n",
              "      <td>1</td>\n",
              "      <td>47</td>\n",
              "      <td>57</td>\n",
              "    </tr>\n",
              "    <tr>\n",
              "      <th>4</th>\n",
              "      <td>1</td>\n",
              "      <td>76</td>\n",
              "      <td>78</td>\n",
              "    </tr>\n",
              "  </tbody>\n",
              "</table>\n",
              "</div>\n",
              "      <button class=\"colab-df-convert\" onclick=\"convertToInteractive('df-186a9550-90ac-42ab-9c76-8e50ee7c3834')\"\n",
              "              title=\"Convert this dataframe to an interactive table.\"\n",
              "              style=\"display:none;\">\n",
              "        \n",
              "  <svg xmlns=\"http://www.w3.org/2000/svg\" height=\"24px\"viewBox=\"0 0 24 24\"\n",
              "       width=\"24px\">\n",
              "    <path d=\"M0 0h24v24H0V0z\" fill=\"none\"/>\n",
              "    <path d=\"M18.56 5.44l.94 2.06.94-2.06 2.06-.94-2.06-.94-.94-2.06-.94 2.06-2.06.94zm-11 1L8.5 8.5l.94-2.06 2.06-.94-2.06-.94L8.5 2.5l-.94 2.06-2.06.94zm10 10l.94 2.06.94-2.06 2.06-.94-2.06-.94-.94-2.06-.94 2.06-2.06.94z\"/><path d=\"M17.41 7.96l-1.37-1.37c-.4-.4-.92-.59-1.43-.59-.52 0-1.04.2-1.43.59L10.3 9.45l-7.72 7.72c-.78.78-.78 2.05 0 2.83L4 21.41c.39.39.9.59 1.41.59.51 0 1.02-.2 1.41-.59l7.78-7.78 2.81-2.81c.8-.78.8-2.07 0-2.86zM5.41 20L4 18.59l7.72-7.72 1.47 1.35L5.41 20z\"/>\n",
              "  </svg>\n",
              "      </button>\n",
              "      \n",
              "  <style>\n",
              "    .colab-df-container {\n",
              "      display:flex;\n",
              "      flex-wrap:wrap;\n",
              "      gap: 12px;\n",
              "    }\n",
              "\n",
              "    .colab-df-convert {\n",
              "      background-color: #E8F0FE;\n",
              "      border: none;\n",
              "      border-radius: 50%;\n",
              "      cursor: pointer;\n",
              "      display: none;\n",
              "      fill: #1967D2;\n",
              "      height: 32px;\n",
              "      padding: 0 0 0 0;\n",
              "      width: 32px;\n",
              "    }\n",
              "\n",
              "    .colab-df-convert:hover {\n",
              "      background-color: #E2EBFA;\n",
              "      box-shadow: 0px 1px 2px rgba(60, 64, 67, 0.3), 0px 1px 3px 1px rgba(60, 64, 67, 0.15);\n",
              "      fill: #174EA6;\n",
              "    }\n",
              "\n",
              "    [theme=dark] .colab-df-convert {\n",
              "      background-color: #3B4455;\n",
              "      fill: #D2E3FC;\n",
              "    }\n",
              "\n",
              "    [theme=dark] .colab-df-convert:hover {\n",
              "      background-color: #434B5C;\n",
              "      box-shadow: 0px 1px 3px 1px rgba(0, 0, 0, 0.15);\n",
              "      filter: drop-shadow(0px 1px 2px rgba(0, 0, 0, 0.3));\n",
              "      fill: #FFFFFF;\n",
              "    }\n",
              "  </style>\n",
              "\n",
              "      <script>\n",
              "        const buttonEl =\n",
              "          document.querySelector('#df-186a9550-90ac-42ab-9c76-8e50ee7c3834 button.colab-df-convert');\n",
              "        buttonEl.style.display =\n",
              "          google.colab.kernel.accessAllowed ? 'block' : 'none';\n",
              "\n",
              "        async function convertToInteractive(key) {\n",
              "          const element = document.querySelector('#df-186a9550-90ac-42ab-9c76-8e50ee7c3834');\n",
              "          const dataTable =\n",
              "            await google.colab.kernel.invokeFunction('convertToInteractive',\n",
              "                                                     [key], {});\n",
              "          if (!dataTable) return;\n",
              "\n",
              "          const docLinkHtml = 'Like what you see? Visit the ' +\n",
              "            '<a target=\"_blank\" href=https://colab.research.google.com/notebooks/data_table.ipynb>data table notebook</a>'\n",
              "            + ' to learn more about interactive tables.';\n",
              "          element.innerHTML = '';\n",
              "          dataTable['output_type'] = 'display_data';\n",
              "          await google.colab.output.renderOutput(dataTable, element);\n",
              "          const docLink = document.createElement('div');\n",
              "          docLink.innerHTML = docLinkHtml;\n",
              "          element.appendChild(docLink);\n",
              "        }\n",
              "      </script>\n",
              "    </div>\n",
              "  </div>\n",
              "  "
            ]
          },
          "metadata": {},
          "execution_count": 5
        }
      ]
    },
    {
      "cell_type": "code",
      "source": [
        "label = df[['writing_score']]"
      ],
      "metadata": {
        "id": "AcXRSrF8dxxu"
      },
      "execution_count": null,
      "outputs": []
    },
    {
      "cell_type": "code",
      "source": [
        "X_train, X_test, y_train, y_test = train_test_split(feature_set, label, \n",
        "                                                    test_size=0.1, random_state=42)"
      ],
      "metadata": {
        "id": "62EDSLZMdzjv"
      },
      "execution_count": null,
      "outputs": []
    },
    {
      "cell_type": "code",
      "source": [
        "inputs = torch.from_numpy(X_train.values).float()\n",
        "targets = torch.from_numpy(y_train.values).float()\n",
        "print(inputs.dtype)"
      ],
      "metadata": {
        "colab": {
          "base_uri": "https://localhost:8080/"
        },
        "id": "eTVLgcGxd1Py",
        "outputId": "68f1cda8-adb7-4f57-fcfd-0df8b86da13f"
      },
      "execution_count": null,
      "outputs": [
        {
          "output_type": "stream",
          "name": "stdout",
          "text": [
            "torch.float32\n"
          ]
        }
      ]
    },
    {
      "cell_type": "code",
      "source": [
        "train = TensorDataset(inputs, targets)\n",
        "train[0:3]\n",
        "#print(len(train))"
      ],
      "metadata": {
        "colab": {
          "base_uri": "https://localhost:8080/"
        },
        "id": "IwMHqWsTd299",
        "outputId": "d7ac1b82-a65c-4f67-a0f4-d830b4111154"
      },
      "execution_count": null,
      "outputs": [
        {
          "output_type": "execute_result",
          "data": {
            "text/plain": [
              "(tensor([[ 1., 73., 78.],\n",
              "         [ 1., 66., 57.],\n",
              "         [ 1., 67., 57.]]), tensor([[72.],\n",
              "         [52.],\n",
              "         [53.]]))"
            ]
          },
          "metadata": {},
          "execution_count": 9
        }
      ]
    },
    {
      "cell_type": "code",
      "source": [
        "val_size = 100\n",
        "train_size = len(train) - val_size\n",
        "\n",
        "train_ds, val_ds = random_split(train, [train_size, val_size])\n",
        "len(train_ds), len(val_ds)"
      ],
      "metadata": {
        "colab": {
          "base_uri": "https://localhost:8080/"
        },
        "id": "KFZy0N0Qd6bx",
        "outputId": "596cc138-cb00-47ce-b1b4-aea0c5b2107c"
      },
      "execution_count": null,
      "outputs": [
        {
          "output_type": "execute_result",
          "data": {
            "text/plain": [
              "(800, 100)"
            ]
          },
          "metadata": {},
          "execution_count": 10
        }
      ]
    },
    {
      "cell_type": "code",
      "source": [
        "batch_size = 128\n",
        "train_dl = DataLoader(train_ds, batch_size, shuffle=True)\n",
        "val_dl = DataLoader(val_ds, batch_size)"
      ],
      "metadata": {
        "id": "3SAmczORd8RH"
      },
      "execution_count": null,
      "outputs": []
    },
    {
      "cell_type": "markdown",
      "source": [
        "# Model Construction"
      ],
      "metadata": {
        "id": "U751Bq9Jd_yX"
      }
    },
    {
      "cell_type": "code",
      "source": [
        "class NewModel(nn.Module):\n",
        "  def __init__(self, in_size, hidden_size, out_size):\n",
        "      super().__init__()\n",
        "      self.linear1 = nn.Linear(in_size, hidden_size)\n",
        "      self.linear2 = nn.Linear(hidden_size, out_size)\n",
        "  \n",
        "  def forward(self, xb):\n",
        "    out = self.linear1(xb)\n",
        "    out = F.relu(out)\n",
        "    out = self.linear2(out)\n",
        "    return out\n",
        "\n",
        "  def training_step(self, batch):\n",
        "    xb, yb = batch\n",
        "    out = self(xb)\n",
        "    loss = F.mse_loss(out, yb)\n",
        "    return loss\n",
        "  \n",
        "  def validation_step(self, batch):\n",
        "    xb, yb = batch\n",
        "    out = self(xb)\n",
        "    loss = F.mse_loss(out, yb)\n",
        "    return {'val_loss': loss}\n",
        "  \n",
        "  def validation_epoch_end(self, outputs):\n",
        "    batch_losses = [x['val_loss'] for x in outputs]\n",
        "    epoch_loss = torch.stack(batch_losses).mean()\n",
        "    return {'val_loss': epoch_loss.item()}\n",
        "  \n",
        "  def epoch_end(self, epoch, result):\n",
        "    print(epoch, result['val_loss'])\n",
        "\n",
        "model = NewModel(3, 16, 1)"
      ],
      "metadata": {
        "id": "ElOEQ-Und9_W"
      },
      "execution_count": null,
      "outputs": []
    },
    {
      "cell_type": "code",
      "source": [
        "loss_fn = F.mse_loss\n",
        "opt = torch.optim.SGD(model.parameters(), lr=1e-5)"
      ],
      "metadata": {
        "id": "InXPAs_weGZL"
      },
      "execution_count": null,
      "outputs": []
    },
    {
      "cell_type": "code",
      "source": [
        "def evaluate(model, val_loader):\n",
        "    outputs = [model.validation_step(batch) for batch in val_loader]\n",
        "    return model.validation_epoch_end(outputs)"
      ],
      "metadata": {
        "id": "hkVS0kNchamV"
      },
      "execution_count": null,
      "outputs": []
    },
    {
      "cell_type": "code",
      "source": [
        "def fit(epochs, lr, model, train_loader, val_loader, opt_func=torch.optim.SGD):\n",
        "    optimizer = opt_func(model.parameters(), lr)\n",
        "    train_losses, history = [],[]\n",
        "    \n",
        "    for epoch in range(epochs):\n",
        "        \n",
        "        # Training Phase \n",
        "        for batch in train_loader:\n",
        "            loss = model.training_step(batch)\n",
        "            loss.backward()\n",
        "            optimizer.step()\n",
        "            optimizer.zero_grad()\n",
        "        \n",
        "        # Validation phase\n",
        "        result = evaluate(model, val_loader)\n",
        "        model.epoch_end(epoch, result)\n",
        "        history.append(result)\n",
        "\n",
        "        train_losses.append(loss.detach())\n",
        "        \n",
        "\n",
        "    return train_losses, history"
      ],
      "metadata": {
        "id": "ezBo_-4ihHdt"
      },
      "execution_count": null,
      "outputs": []
    },
    {
      "cell_type": "code",
      "source": [
        "evaluate(model, val_dl)"
      ],
      "metadata": {
        "colab": {
          "base_uri": "https://localhost:8080/"
        },
        "id": "o_GyABsIhhj4",
        "outputId": "3bf5ac4d-2df8-4d2c-98c5-c93d0624d504"
      },
      "execution_count": null,
      "outputs": [
        {
          "output_type": "execute_result",
          "data": {
            "text/plain": [
              "{'val_loss': 3336.46337890625}"
            ]
          },
          "metadata": {},
          "execution_count": 16
        }
      ]
    },
    {
      "cell_type": "code",
      "source": [
        "evaluate(model, val_dl)"
      ],
      "metadata": {
        "colab": {
          "base_uri": "https://localhost:8080/"
        },
        "id": "0efKHH0WrhNh",
        "outputId": "739b4fcb-30ec-433e-966e-4264191d7748"
      },
      "execution_count": null,
      "outputs": [
        {
          "output_type": "execute_result",
          "data": {
            "text/plain": [
              "{'val_loss': 3336.46337890625}"
            ]
          },
          "metadata": {},
          "execution_count": 17
        }
      ]
    },
    {
      "cell_type": "code",
      "source": [
        "train_losses, val_losses = fit(50, 0.001, model, train_dl, val_dl)"
      ],
      "metadata": {
        "colab": {
          "base_uri": "https://localhost:8080/"
        },
        "id": "4ntjD-EChoBD",
        "outputId": "f6138d8b-0f01-4a37-91a1-1bb00e25afe1"
      },
      "execution_count": null,
      "outputs": [
        {
          "output_type": "stream",
          "name": "stdout",
          "text": [
            "0 371.7451171875\n",
            "1 369.2864990234375\n",
            "2 366.7920837402344\n",
            "3 364.3603210449219\n",
            "4 362.0498046875\n",
            "5 359.7901611328125\n",
            "6 357.5641784667969\n",
            "7 355.3746337890625\n",
            "8 353.31427001953125\n",
            "9 351.29241943359375\n",
            "10 349.3125305175781\n",
            "11 347.3446960449219\n",
            "12 345.4532775878906\n",
            "13 343.5986633300781\n",
            "14 341.7144470214844\n",
            "15 339.84259033203125\n",
            "16 338.0160217285156\n",
            "17 336.3858337402344\n",
            "18 334.74481201171875\n",
            "19 333.1546936035156\n",
            "20 331.56378173828125\n",
            "21 330.1448059082031\n",
            "22 328.7069091796875\n",
            "23 327.3011474609375\n",
            "24 325.88946533203125\n",
            "25 324.58209228515625\n",
            "26 323.19415283203125\n",
            "27 322.0191345214844\n",
            "28 320.8002014160156\n",
            "29 319.6483154296875\n",
            "30 318.576904296875\n",
            "31 317.5428161621094\n",
            "32 316.47503662109375\n",
            "33 315.4195556640625\n",
            "34 314.3699951171875\n",
            "35 313.3619384765625\n",
            "36 312.3221130371094\n",
            "37 311.43035888671875\n",
            "38 310.45965576171875\n",
            "39 309.44158935546875\n",
            "40 308.5084228515625\n",
            "41 307.6200256347656\n",
            "42 306.7635498046875\n",
            "43 305.8978576660156\n",
            "44 305.12969970703125\n",
            "45 304.3275146484375\n",
            "46 303.55108642578125\n",
            "47 302.8130187988281\n",
            "48 302.1611328125\n",
            "49 301.4880065917969\n"
          ]
        }
      ]
    },
    {
      "cell_type": "code",
      "source": [
        "val_plots = pd.DataFrame(val_losses)"
      ],
      "metadata": {
        "id": "T1j8occBcUV2"
      },
      "execution_count": null,
      "outputs": []
    },
    {
      "cell_type": "code",
      "source": [
        "plt.plot(train_losses, '-x')\n",
        "plt.plot(val_plots, '-o')\n",
        "plt.show()"
      ],
      "metadata": {
        "colab": {
          "base_uri": "https://localhost:8080/",
          "height": 265
        },
        "id": "nUJVBhs2hxCT",
        "outputId": "499f2f22-0434-4a43-f904-aac99ca65b4c"
      },
      "execution_count": null,
      "outputs": [
        {
          "output_type": "display_data",
          "data": {
            "text/plain": [
              "<Figure size 432x288 with 1 Axes>"
            ],
            "image/png": "[encoded data removed]"
          },
          "metadata": {
            "needs_background": "light"
          }
        }
      ]
    },
    {
      "cell_type": "code",
      "source": [
        ""
      ],
      "metadata": {
        "id": "CzZoOvRvkFyN"
      },
      "execution_count": null,
      "outputs": []
    }
  ]
}